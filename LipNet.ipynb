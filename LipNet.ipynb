{
  "cells": [
    {
      "cell_type": "markdown",
      "metadata": {
        "id": "view-in-github",
        "colab_type": "text"
      },
      "source": [
        "<a href=\"https://colab.research.google.com/github/vjardimb/lipnet/blob/main/LipNet.ipynb\" target=\"_parent\"><img src=\"https://colab.research.google.com/assets/colab-badge.svg\" alt=\"Open In Colab\"/></a>"
      ]
    },
    {
      "cell_type": "markdown",
      "source": [
        "#LipNet Implementation\n",
        "\n",
        "The goal of this notebook is to implement the lip-reading model proposed by [Assael et al](https://arxiv.org/abs/1611.01599). This model is capable of translating what a person is saying without access to an audio signal. The reading is done only by recording the person's face while saying the sentence.\n",
        "\n",
        "The implementation is made using the dataset used on the orignal paper."
      ],
      "metadata": {
        "id": "0tLaU74lCgbH"
      }
    },
    {
      "cell_type": "code",
      "execution_count": null,
      "metadata": {
        "id": "FKGc3ac8mPd6"
      },
      "outputs": [],
      "source": [
        "import os\n",
        "import numpy as np\n",
        "import tensorflow as tf\n",
        "import matplotlib.pyplot as plt\n",
        "import gdown\n",
        "import cv2\n",
        "import dlib"
      ]
    },
    {
      "cell_type": "code",
      "execution_count": null,
      "metadata": {
        "colab": {
          "base_uri": "https://localhost:8080/"
        },
        "id": "_p8j06jEqoAk",
        "outputId": "4eef2c94-a803-43bd-9580-86098465720f"
      },
      "outputs": [
        {
          "output_type": "stream",
          "name": "stdout",
          "text": [
            "[PhysicalDevice(name='/physical_device:GPU:0', device_type='GPU')]\n"
          ]
        }
      ],
      "source": [
        "# check GPU availability\n",
        "physical_devices = tf.config.list_physical_devices('GPU')\n",
        "print(physical_devices)\n",
        "\n",
        "try:\n",
        "    tf.config.experimental.set_memory_growth(physical_devices[0], True)\n",
        "except:\n",
        "    pass"
      ]
    },
    {
      "cell_type": "markdown",
      "source": [
        "#Get Data"
      ],
      "metadata": {
        "id": "de1PpdiouvAJ"
      }
    },
    {
      "cell_type": "code",
      "execution_count": null,
      "metadata": {
        "id": "aFCrBZU-ryKv"
      },
      "outputs": [],
      "source": [
        "# source_url = 'https://drive.google.com/uc?id=1YlvpDLix3S-U8fd-gqRwPcWXAXm8JwjL'\n",
        "# output = r'data.zip'\n",
        "# gdown.download(source_url)\n",
        "# gdown.extractall(output)"
      ]
    },
    {
      "cell_type": "markdown",
      "source": [
        "# Connect to Google Drive"
      ],
      "metadata": {
        "id": "wjXxMfy1oF5a"
      }
    },
    {
      "cell_type": "code",
      "source": [
        "# from google.colab import drive\n",
        "\n",
        "# drive.mount('/content/gdrive')"
      ],
      "metadata": {
        "id": "R0kcYzrMoFB9"
      },
      "execution_count": null,
      "outputs": []
    },
    {
      "cell_type": "code",
      "execution_count": null,
      "metadata": {
        "id": "7a4o547_kGt-"
      },
      "outputs": [],
      "source": [
        "# folder paths\n",
        "folder_data = 'data'\n",
        "folder_videos = folder_data + '/s1'\n",
        "folder_align =  folder_data + '/alignments/s1'\n",
        "folder_gdrive = 'gdrive/MyDrive'\n",
        "folder_gdrive_project =  folder_gdrive + '/ML Projects/Lipnet'"
      ]
    },
    {
      "cell_type": "markdown",
      "source": [
        "# Load Data Functions\n"
      ],
      "metadata": {
        "id": "svDgCCXnDeOD"
      }
    },
    {
      "cell_type": "code",
      "execution_count": null,
      "metadata": {
        "id": "PekkD5l0jDvS"
      },
      "outputs": [],
      "source": [
        "def load_video(video_path):\n",
        "    # initialize face detector and face marker\n",
        "    hog_face_detector = dlib.get_frontal_face_detector()\n",
        "    face_landmarker = dlib.shape_predictor(\n",
        "        folder_gdrive_project + \"/shape_predictor_68_face_landmarks.dat\"\n",
        "    )\n",
        "\n",
        "    cap = cv2.VideoCapture(video_path.numpy().decode(\"utf-8\"))\n",
        "    frames = []\n",
        "\n",
        "    for _ in range(int(cap.get(cv2.CAP_PROP_FRAME_COUNT))):\n",
        "        ret, frame = cap.read()\n",
        "\n",
        "        tf_frame = tf.cast(frame, tf.float32)\n",
        "\n",
        "        # convert to rgb and gray scale\n",
        "        tf_frame = tf.image.rgb_to_grayscale(tf_frame)\n",
        "        gray = cv2.cvtColor(frame, cv2.COLOR_BGR2GRAY)\n",
        "\n",
        "        # get faces on the frame and find lip corners\n",
        "        face = hog_face_detector(gray)\n",
        "\n",
        "        face_landmarks = face_landmarker(gray, face[0])\n",
        "\n",
        "        # x and y lip corners coordinates\n",
        "        left_coords = face_landmarks.part(48).x, face_landmarks.part(48).y\n",
        "        right_coords = face_landmarks.part(54).x, face_landmarks.part(54).y\n",
        "        center_x = int((left_coords[0] + right_coords[0])*0.5)\n",
        "        center_y = int((left_coords[1] + right_coords[1])*0.5)\n",
        "\n",
        "        cropped_frame = tf_frame[center_y-23:center_y+23, center_x-70:center_x+70, :]\n",
        "        frames.append(cropped_frame)\n",
        "    cap.release()\n",
        "\n",
        "    mean = tf.cast(tf.math.reduce_mean(frames), tf.uint8)\n",
        "    std = tf.math.reduce_std(frames)\n",
        "\n",
        "    return tf.cast((frames - mean), tf.float32) / std"
      ]
    },
    {
      "cell_type": "code",
      "execution_count": null,
      "metadata": {
        "id": "t3iOdUjXj9SH"
      },
      "outputs": [],
      "source": [
        "characters = \"abcdefghijklmnopqrstuvwxyz'?!123456789 \"\n",
        "vocab = [*characters]\n",
        "\n",
        "encoder = tf.keras.layers.StringLookup(vocabulary=vocab)\n",
        "decoder = tf.keras.layers.StringLookup(vocabulary=vocab, output_mode=\"int\", invert=True)"
      ]
    },
    {
      "cell_type": "code",
      "source": [
        "video_names = os.listdir('data/s1')\n",
        "file_names = [name[:-4] for name in video_names]"
      ],
      "metadata": {
        "id": "SAi1rcQjD4C9"
      },
      "execution_count": null,
      "outputs": []
    },
    {
      "cell_type": "code",
      "execution_count": null,
      "metadata": {
        "id": "4p-bTJIx9sei",
        "colab": {
          "base_uri": "https://localhost:8080/"
        },
        "outputId": "315b3a76-50c6-4210-e924-3863ea6ff513"
      },
      "outputs": [
        {
          "output_type": "execute_result",
          "data": {
            "text/plain": [
              "(array([[ 1,  3,  4],\n",
              "        [ 4, 26,  2]]),\n",
              " <tf.Tensor: shape=(2, 3), dtype=string, numpy=\n",
              " array([[b'a', b'c', b'd'],\n",
              "        [b'd', b'z', b'b']], dtype=object)>)"
            ]
          },
          "metadata": {},
          "execution_count": 9
        }
      ],
      "source": [
        "# test encoder / decoder\n",
        "data = tf.constant([[\"a\", \"c\", \"d\"], [\"d\", \"z\", \"b\"]])\n",
        "\n",
        "encoder(data).numpy(), decoder(encoder(data).numpy())"
      ]
    },
    {
      "cell_type": "code",
      "source": [
        "def load_align(align_path):\n",
        "    with open(align_path) as file:\n",
        "        words = [line.split(' ')[-1][:-1] for line in file.readlines()[1:-1]]\n",
        "        sentence = ' '.join(words)\n",
        "        return encoder([*sentence])"
      ],
      "metadata": {
        "id": "y0ANHYD6tuLs"
      },
      "execution_count": null,
      "outputs": []
    },
    {
      "cell_type": "code",
      "source": [
        "def load_data(video_path):\n",
        "    file_name = video_path.numpy().decode(\"utf-8\").split('/')[-1][:-4]\n",
        "    align_path = folder_align + '/' + file_name + '.align'\n",
        "\n",
        "    return load_video(video_path), load_align(align_path)"
      ],
      "metadata": {
        "id": "EhxtTkywtynt"
      },
      "execution_count": null,
      "outputs": []
    },
    {
      "cell_type": "markdown",
      "source": [
        "# Create Data PipeLine"
      ],
      "metadata": {
        "id": "BEKbihFSEnOv"
      }
    },
    {
      "cell_type": "code",
      "source": [
        "corrupted_videos = [\n",
        "    'lgbf8n.mpg',\n",
        "    'pbwx1s.mpg',\n",
        "    'bbizzn.mpg',\n",
        "    'bwwuzn.mpg',\n",
        "    'prii9a.mpg',\n",
        "    'brwg8p.mpg',\n",
        "    'brwa4p.mpg',\n",
        "    'sran9s.mpg',\n",
        "    'lrarzn.mpg',\n",
        "    'pbio7a.mpg',\n",
        "    'sbbh4p.mpg'\n",
        "]\n",
        "\n",
        "def filter_corrupted_files(file_path):\n",
        "    file_name = tf.strings.split(file_path, '/')[-1]\n",
        "    return tf.math.logical_not(tf.reduce_any(tf.equal(file_name, corrupted_videos)))"
      ],
      "metadata": {
        "id": "jpxZJfGEv4dp"
      },
      "execution_count": null,
      "outputs": []
    },
    {
      "cell_type": "code",
      "source": [
        "data = tf.data.Dataset.list_files('./data/s1/*.mpg')\n",
        "data = data.filter(filter_corrupted_files)\n",
        "data = data.shuffle(300, )\n",
        "data = data.map(lambda x: tf.py_function(load_data, [x], (tf.float32, tf.int64)))\n",
        "data = data.padded_batch(2, padded_shapes=([75, None, None, None], [40]))\n",
        "data = data.prefetch(tf.data.AUTOTUNE)"
      ],
      "metadata": {
        "id": "JdyXSCyLt8B2"
      },
      "execution_count": null,
      "outputs": []
    },
    {
      "cell_type": "markdown",
      "source": [
        "# Model Definition"
      ],
      "metadata": {
        "id": "7admYIAQDmrt"
      }
    },
    {
      "cell_type": "code",
      "source": [
        "input_shape = (75, 46, 140, 1)\n",
        "\n",
        "# Input layer\n",
        "inputs = tf.keras.layers.Input(shape=input_shape)\n",
        "\n",
        "# Convolutional layers\n",
        "x = tf.keras.layers.Conv3D(128, kernel_size=(3, 3, 3), activation='relu', padding='same')(inputs)\n",
        "x = tf.keras.layers.MaxPooling3D(pool_size=(1, 2, 2), padding='same')(x)\n",
        "x = tf.keras.layers.Conv3D(256, kernel_size=(3, 3, 3), activation='relu', padding='same')(x)\n",
        "x = tf.keras.layers.MaxPooling3D(pool_size=(1, 2, 2))(x)\n",
        "x = tf.keras.layers.Conv3D(75, kernel_size=(3, 3, 3), activation='relu', padding='same')(x)\n",
        "x = tf.keras.layers.MaxPooling3D(pool_size=(1, 2, 2))(x)\n",
        "\n",
        "# flattening in time dim\n",
        "x = tf.keras.layers.TimeDistributed(tf.keras.layers.Flatten())(x)\n",
        "\n",
        "# Bidirectional GRU layers\n",
        "x = tf.keras.layers.Bidirectional(tf.keras.layers.LSTM(128, kernel_initializer='orthogonal', return_sequences=True))(x)\n",
        "x = tf.keras.layers.Dropout(0.5)(x)\n",
        "x = tf.keras.layers.Bidirectional(tf.keras.layers.LSTM(128, kernel_initializer='orthogonal', return_sequences=True))(x)\n",
        "x = tf.keras.layers.Dropout(0.5)(x)\n",
        "\n",
        "# Output layer\n",
        "outputs = tf.keras.layers.Dense(encoder.vocabulary_size()+1, activation='softmax')(x)\n",
        "\n",
        "# Create model\n",
        "model = tf.keras.Model(inputs=inputs, outputs=outputs)"
      ],
      "metadata": {
        "id": "jus3ykxA7_gX"
      },
      "execution_count": null,
      "outputs": []
    },
    {
      "cell_type": "code",
      "source": [
        "model.summary()"
      ],
      "metadata": {
        "colab": {
          "base_uri": "https://localhost:8080/"
        },
        "id": "mBVYfSRt8GMz",
        "outputId": "41caeb4b-2121-4a16-a68c-95d625631ea5"
      },
      "execution_count": null,
      "outputs": [
        {
          "output_type": "stream",
          "name": "stdout",
          "text": [
            "Model: \"model\"\n",
            "_________________________________________________________________\n",
            " Layer (type)                Output Shape              Param #   \n",
            "=================================================================\n",
            " input_1 (InputLayer)        [(None, 75, 46, 140, 1)   0         \n",
            "                             ]                                   \n",
            "                                                                 \n",
            " conv3d (Conv3D)             (None, 75, 46, 140, 128   3584      \n",
            "                             )                                   \n",
            "                                                                 \n",
            " max_pooling3d (MaxPooling3  (None, 75, 23, 70, 128)   0         \n",
            " D)                                                              \n",
            "                                                                 \n",
            " conv3d_1 (Conv3D)           (None, 75, 23, 70, 256)   884992    \n",
            "                                                                 \n",
            " max_pooling3d_1 (MaxPoolin  (None, 75, 11, 35, 256)   0         \n",
            " g3D)                                                            \n",
            "                                                                 \n",
            " conv3d_2 (Conv3D)           (None, 75, 11, 35, 75)    518475    \n",
            "                                                                 \n",
            " max_pooling3d_2 (MaxPoolin  (None, 75, 5, 17, 75)     0         \n",
            " g3D)                                                            \n",
            "                                                                 \n",
            " time_distributed (TimeDist  (None, 75, 6375)          0         \n",
            " ributed)                                                        \n",
            "                                                                 \n",
            " bidirectional (Bidirection  (None, 75, 256)           6660096   \n",
            " al)                                                             \n",
            "                                                                 \n",
            " dropout (Dropout)           (None, 75, 256)           0         \n",
            "                                                                 \n",
            " bidirectional_1 (Bidirecti  (None, 75, 256)           394240    \n",
            " onal)                                                           \n",
            "                                                                 \n",
            " dropout_1 (Dropout)         (None, 75, 256)           0         \n",
            "                                                                 \n",
            " dense (Dense)               (None, 75, 41)            10537     \n",
            "                                                                 \n",
            "=================================================================\n",
            "Total params: 8471924 (32.32 MB)\n",
            "Trainable params: 8471924 (32.32 MB)\n",
            "Non-trainable params: 0 (0.00 Byte)\n",
            "_________________________________________________________________\n"
          ]
        }
      ]
    },
    {
      "cell_type": "markdown",
      "source": [
        "## Callbacks and Loss Functions"
      ],
      "metadata": {
        "id": "7yyYvYZu7RE-"
      }
    },
    {
      "cell_type": "code",
      "source": [
        "# This function keeps the initial learning rate for the first ten epochs\n",
        "# and decreases it exponentially after that.\n",
        "def scheduler(epoch, lr):\n",
        "    if epoch < 10:\n",
        "        return lr\n",
        "    else:\n",
        "        return lr * tf.math.exp(-0.1)"
      ],
      "metadata": {
        "id": "0cmgjYGC8h6A"
      },
      "execution_count": null,
      "outputs": []
    },
    {
      "cell_type": "code",
      "source": [
        "from tensorflow.keras.callbacks import ModelCheckpoint, LearningRateScheduler\n",
        "\n",
        "checkpoint_callback = ModelCheckpoint(\n",
        "    os.path.join(folder_gdrive_project,'model_checkpoints'),\n",
        "    monitor='loss',\n",
        "    save_weights_only=True\n",
        ")\n",
        "\n",
        "scheduler_callback = LearningRateScheduler(scheduler)"
      ],
      "metadata": {
        "id": "wDuxjfm98tfL"
      },
      "execution_count": null,
      "outputs": []
    },
    {
      "cell_type": "code",
      "source": [
        "def CTC_Loss(y_true, y_pred):\n",
        "    batch_len = tf.cast(tf.shape(y_true)[0], dtype=\"int64\")\n",
        "    input_length = tf.cast(tf.shape(y_pred)[1], dtype=\"int64\")\n",
        "    label_length = tf.cast(tf.shape(y_true)[1], dtype=\"int64\")\n",
        "\n",
        "    input_length = input_length * tf.ones(shape=(batch_len, 1), dtype=\"int64\")\n",
        "    label_length = label_length * tf.ones(shape=(batch_len, 1), dtype=\"int64\")\n",
        "\n",
        "    loss = tf.keras.backend.ctc_batch_cost(y_true, y_pred, input_length, label_length)\n",
        "    return loss"
      ],
      "metadata": {
        "id": "fPlEKIrm8v-L"
      },
      "execution_count": null,
      "outputs": []
    },
    {
      "cell_type": "code",
      "source": [
        "model.compile(tf.keras.optimizers.Adam(), loss=CTC_Loss)"
      ],
      "metadata": {
        "id": "9Lkb2_Ks8yi3"
      },
      "execution_count": null,
      "outputs": []
    },
    {
      "cell_type": "code",
      "source": [
        "train = data.take(450)\n",
        "test = data.skip(450)"
      ],
      "metadata": {
        "id": "iAO9Gl7e82EH"
      },
      "execution_count": null,
      "outputs": []
    },
    {
      "cell_type": "code",
      "source": [
        "history = model.fit(minidataset, validation_data=minidataset, epochs=10, callbacks=[checkpoint_callback, scheduler_callback])"
      ],
      "metadata": {
        "id": "0pKck7vM85Oz"
      },
      "execution_count": null,
      "outputs": []
    },
    {
      "cell_type": "markdown",
      "source": [
        "Hardware limitations are preventing the propertraining of the neural network."
      ],
      "metadata": {
        "id": "EGQSl-JEZ5Re"
      }
    }
  ],
  "metadata": {
    "colab": {
      "provenance": [],
      "gpuType": "T4",
      "authorship_tag": "ABX9TyPqxu5p9GeFYZfYT9eI9Yt/",
      "include_colab_link": true
    },
    "kernelspec": {
      "display_name": "Python 3",
      "name": "python3"
    },
    "language_info": {
      "name": "python"
    },
    "accelerator": "GPU",
    "gpuClass": "standard"
  },
  "nbformat": 4,
  "nbformat_minor": 0
}